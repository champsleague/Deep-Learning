{
  "nbformat": 4,
  "nbformat_minor": 0,
  "metadata": {
    "colab": {
      "provenance": [],
      "authorship_tag": "ABX9TyN6CX+ENJuE2H41EU1su/b7",
      "include_colab_link": true
    },
    "kernelspec": {
      "name": "python3",
      "display_name": "Python 3"
    },
    "language_info": {
      "name": "python"
    }
  },
  "cells": [
    {
      "cell_type": "markdown",
      "metadata": {
        "id": "view-in-github",
        "colab_type": "text"
      },
      "source": [
        "<a href=\"https://colab.research.google.com/github/champsleague/Deep-Learning/blob/main/Lesson2.ipynb\" target=\"_parent\"><img src=\"https://colab.research.google.com/assets/colab-badge.svg\" alt=\"Open In Colab\"/></a>"
      ]
    },
    {
      "cell_type": "code",
      "execution_count": 3,
      "metadata": {
        "id": "ckLhX2bRlJvY"
      },
      "outputs": [],
      "source": [
        "from fastai.vision.all import *\n",
        "try: import fastkaggle\n",
        "except ModuleNotFoundError:\n",
        "    !pip install -Uq fastkaggle\n",
        "from fastkaggle import *"
      ]
    },
    {
      "cell_type": "code",
      "source": [
        "comp = 'muffin-vs-chihuahua-image-classification'\n",
        "path = setup_comp(comp, install='fastai \"timm>=0.6.2.dev0\"')"
      ],
      "metadata": {
        "id": "Wpdq5zpwlN5o"
      },
      "execution_count": null,
      "outputs": []
    },
    {
      "cell_type": "code",
      "source": [
        "display(path)"
      ],
      "metadata": {
        "id": "0SE5jBdLoYaX"
      },
      "execution_count": null,
      "outputs": []
    },
    {
      "cell_type": "code",
      "source": [
        "!pip install -Uqq fastbook\n",
        "import fastbook\n",
        "fastbook.setup_book()"
      ],
      "metadata": {
        "colab": {
          "base_uri": "https://localhost:8080/"
        },
        "id": "iGfhdVVQALtk",
        "outputId": "d1f4698a-4184-4b0a-c64f-bc27cb406147"
      },
      "execution_count": 3,
      "outputs": [
        {
          "output_type": "stream",
          "name": "stdout",
          "text": [
            "\u001b[2K     \u001b[90m━━━━━━━━━━━━━━━━━━━━━━━━━━━━━━━━━━━━━━\u001b[0m \u001b[32m719.8/719.8 KB\u001b[0m \u001b[31m12.5 MB/s\u001b[0m eta \u001b[36m0:00:00\u001b[0m\n",
            "\u001b[2K     \u001b[90m━━━━━━━━━━━━━━━━━━━━━━━━━━━━━━━━━━━━━━━━\u001b[0m \u001b[32m1.3/1.3 MB\u001b[0m \u001b[31m41.3 MB/s\u001b[0m eta \u001b[36m0:00:00\u001b[0m\n",
            "\u001b[2K     \u001b[90m━━━━━━━━━━━━━━━━━━━━━━━━━━━━━━━━━━━━━━\u001b[0m \u001b[32m452.9/452.9 KB\u001b[0m \u001b[31m30.5 MB/s\u001b[0m eta \u001b[36m0:00:00\u001b[0m\n",
            "\u001b[2K     \u001b[90m━━━━━━━━━━━━━━━━━━━━━━━━━━━━━━━━━━━━━━━━\u001b[0m \u001b[32m5.8/5.8 MB\u001b[0m \u001b[31m79.5 MB/s\u001b[0m eta \u001b[36m0:00:00\u001b[0m\n",
            "\u001b[2K     \u001b[90m━━━━━━━━━━━━━━━━━━━━━━━━━━━━━━━━━━━━━━\u001b[0m \u001b[32m182.4/182.4 KB\u001b[0m \u001b[31m18.1 MB/s\u001b[0m eta \u001b[36m0:00:00\u001b[0m\n",
            "\u001b[2K     \u001b[90m━━━━━━━━━━━━━━━━━━━━━━━━━━━━━━━━━━━━━━\u001b[0m \u001b[32m132.0/132.0 KB\u001b[0m \u001b[31m13.6 MB/s\u001b[0m eta \u001b[36m0:00:00\u001b[0m\n",
            "\u001b[2K     \u001b[90m━━━━━━━━━━━━━━━━━━━━━━━━━━━━━━━━━━━━━━\u001b[0m \u001b[32m213.0/213.0 KB\u001b[0m \u001b[31m17.0 MB/s\u001b[0m eta \u001b[36m0:00:00\u001b[0m\n",
            "\u001b[2K     \u001b[90m━━━━━━━━━━━━━━━━━━━━━━━━━━━━━━━━━━━━━━━━\u001b[0m \u001b[32m7.6/7.6 MB\u001b[0m \u001b[31m56.1 MB/s\u001b[0m eta \u001b[36m0:00:00\u001b[0m\n",
            "\u001b[2K     \u001b[90m━━━━━━━━━━━━━━━━━━━━━━━━━━━━━━━━━━━━━━━━\u001b[0m \u001b[32m1.6/1.6 MB\u001b[0m \u001b[31m64.3 MB/s\u001b[0m eta \u001b[36m0:00:00\u001b[0m\n",
            "\u001b[2K     \u001b[90m━━━━━━━━━━━━━━━━━━━━━━━━━━━━━━━━━━━━━━\u001b[0m \u001b[32m140.6/140.6 KB\u001b[0m \u001b[31m13.5 MB/s\u001b[0m eta \u001b[36m0:00:00\u001b[0m\n",
            "\u001b[?25hMounted at /content/gdrive\n"
          ]
        }
      ]
    },
    {
      "cell_type": "code",
      "source": [
        "from fastbook import *\n",
        "from fastai.vision.widgets import *"
      ],
      "metadata": {
        "id": "oCs5OHVMBDcW"
      },
      "execution_count": 4,
      "outputs": []
    },
    {
      "cell_type": "code",
      "source": [
        "# in order to use Bing API, change bing to ddg\n",
        "search_images_ddg"
      ],
      "metadata": {
        "colab": {
          "base_uri": "https://localhost:8080/"
        },
        "id": "MC6nEWsuBHyn",
        "outputId": "4bf9fc7a-91a9-429f-afa3-54eb5664b9fc"
      },
      "execution_count": 5,
      "outputs": [
        {
          "output_type": "execute_result",
          "data": {
            "text/plain": [
              "<function fastbook.search_images_ddg(term, max_images=200)>"
            ]
          },
          "metadata": {},
          "execution_count": 5
        }
      ]
    },
    {
      "cell_type": "code",
      "source": [
        "# bear detector\n",
        "ims = search_images_ddg('grizzly bear')\n",
        "len(ims)"
      ],
      "metadata": {
        "colab": {
          "base_uri": "https://localhost:8080/"
        },
        "id": "GtMopQT1BqPv",
        "outputId": "0d7e6541-8d9b-4742-ad42-3da87ba49aa8"
      },
      "execution_count": 6,
      "outputs": [
        {
          "output_type": "execute_result",
          "data": {
            "text/plain": [
              "200"
            ]
          },
          "metadata": {},
          "execution_count": 6
        }
      ]
    },
    {
      "cell_type": "code",
      "source": [
        "dest = 'images.grizzly.jpg'\n",
        "download_url(ims[0],dest,show_progress=False)"
      ],
      "metadata": {
        "colab": {
          "base_uri": "https://localhost:8080/"
        },
        "id": "5nj6xl3OBt3y",
        "outputId": "d5a41a1b-3e98-4730-aab6-629ae7b969f9"
      },
      "execution_count": 7,
      "outputs": [
        {
          "output_type": "execute_result",
          "data": {
            "text/plain": [
              "Path('images.grizzly.jpg')"
            ]
          },
          "metadata": {},
          "execution_count": 7
        }
      ]
    },
    {
      "cell_type": "code",
      "source": [
        "im = Image.open(dest)\n",
        "im.to_thumb(128,128)"
      ],
      "metadata": {
        "colab": {
          "base_uri": "https://localhost:8080/",
          "height": 145
        },
        "id": "VrMhcMVLCRRW",
        "outputId": "2a7c2788-e5a5-4c07-b168-e33ed9a0e820"
      },
      "execution_count": 8,
      "outputs": [
        {
          "output_type": "execute_result",
          "data": {
            "text/plain": [
              "<PIL.Image.Image image mode=RGB size=85x128>"
            ],
            "image/png": "[encoded data removed]"
          },
          "metadata": {},
          "execution_count": 8
        }
      ]
    },
    {
      "cell_type": "code",
      "source": [
        "# repeat 3 of them\n",
        "bear_types = 'grizzly','black','teddy'\n",
        "path = Path('bears')"
      ],
      "metadata": {
        "id": "FKweBMgRCYAx"
      },
      "execution_count": 9,
      "outputs": []
    },
    {
      "cell_type": "code",
      "source": [
        "if not path.exists():\n",
        "  path.mkdir()\n",
        "  for o in bear_types:\n",
        "    dest = (path/o)\n",
        "    dest.mkdir(exist_ok=True)\n",
        "    results = search_images_ddg(f'{o} bear')\n",
        "    download_images(dest,urls=results)"
      ],
      "metadata": {
        "id": "-ak-1PI8CgkS"
      },
      "execution_count": 10,
      "outputs": []
    },
    {
      "cell_type": "code",
      "source": [
        "fns = get_image_files(path)\n",
        "fns"
      ],
      "metadata": {
        "colab": {
          "base_uri": "https://localhost:8080/"
        },
        "id": "b7F7R8_bC3Ka",
        "outputId": "3343c389-492a-409f-88ba-9638dfcd344f"
      },
      "execution_count": 11,
      "outputs": [
        {
          "output_type": "execute_result",
          "data": {
            "text/plain": [
              "(#576) [Path('bears/teddy/95bf312a-a1f9-4a99-afda-5c4a06bfa0cc.jpg'),Path('bears/teddy/37fba6b5-23a3-4a20-9091-d1f9689cefc9.jpg'),Path('bears/teddy/ba5169da-9ffe-42ca-b3b4-0d8b24988b27.jpg'),Path('bears/teddy/40e350ca-acd8-45f0-8987-4ddad4bd77f8.jpg'),Path('bears/teddy/2352f46e-222c-4c47-97f9-5fa8178e92f5.jpg'),Path('bears/teddy/0f3c5de5-6865-4b81-b007-707c984815e2.jpg'),Path('bears/teddy/fc6fe4a0-c21e-4bbf-b522-a99d37b4663c.jpg'),Path('bears/teddy/b36b11d7-6c82-4833-a94e-8db339473eb0.jpg'),Path('bears/teddy/d62f9669-389d-475e-b1cd-0b36b96f1ed0.JPG'),Path('bears/teddy/b3131364-7489-4725-8bc2-5ec9b2f77fb5.jpg')...]"
            ]
          },
          "metadata": {},
          "execution_count": 11
        }
      ]
    },
    {
      "cell_type": "code",
      "source": [
        "failed = verify_images(fns)\n",
        "failed"
      ],
      "metadata": {
        "colab": {
          "base_uri": "https://localhost:8080/"
        },
        "id": "uI7D397ZC9fz",
        "outputId": "814fcd5b-6bff-408a-c70f-5fbd4c5eb2dc"
      },
      "execution_count": 12,
      "outputs": [
        {
          "output_type": "execute_result",
          "data": {
            "text/plain": [
              "(#11) [Path('bears/teddy/fc6fe4a0-c21e-4bbf-b522-a99d37b4663c.jpg'),Path('bears/teddy/dfe2af89-e196-4abc-bd3a-aa127f9d8bd2.jpg'),Path('bears/teddy/118d7c68-f63f-4c0a-b330-86fb3d655a60.jpg'),Path('bears/teddy/2b486b85-afe1-40d6-98a8-4759bf9bcfab.jpg'),Path('bears/teddy/cee08534-5b07-4676-b086-08004c3f4206.jpg'),Path('bears/teddy/4cd7fd1b-8c57-46da-b71f-5671c1ea1c82.jpg'),Path('bears/teddy/5c9909a5-649a-4ca7-9224-95cdd62e7060.jpg'),Path('bears/teddy/d44824b7-289f-43c3-9362-4f9de07272e9.jpg'),Path('bears/grizzly/573d7e66-33d9-4dfb-9efc-f9f5c8996cd6.jpg'),Path('bears/grizzly/417c098a-67ac-46b0-bec0-6c7bf89eb5e0.jpg')...]"
            ]
          },
          "metadata": {},
          "execution_count": 12
        }
      ]
    },
    {
      "cell_type": "code",
      "source": [
        "failed.map(Path.unlink);"
      ],
      "metadata": {
        "id": "7YG48TDADBmY"
      },
      "execution_count": 13,
      "outputs": []
    },
    {
      "cell_type": "code",
      "source": [],
      "metadata": {
        "id": "SVt9iRQvDIAk"
      },
      "execution_count": null,
      "outputs": []
    }
  ]
}